{
  "nbformat": 4,
  "nbformat_minor": 0,
  "metadata": {
    "colab": {
      "provenance": []
    },
    "kernelspec": {
      "name": "python3",
      "display_name": "Python 3"
    },
    "language_info": {
      "name": "python"
    }
  },
  "cells": [
    {
      "cell_type": "code",
      "source": [
        "pip install gluonts[mxnet]"
      ],
      "metadata": {
        "colab": {
          "base_uri": "https://localhost:8080/"
        },
        "id": "FzxXNKrL5-5_",
        "outputId": "d8174609-e4fc-4d3c-d5d2-547ef49b5f79"
      },
      "execution_count": 1,
      "outputs": [
        {
          "output_type": "stream",
          "name": "stdout",
          "text": [
            "Looking in indexes: https://pypi.org/simple, https://us-python.pkg.dev/colab-wheels/public/simple/\n",
            "Collecting gluonts[mxnet]\n",
            "  Downloading gluonts-0.11.6-py3-none-any.whl (1.0 MB)\n",
            "\u001b[K     |████████████████████████████████| 1.0 MB 5.5 MB/s \n",
            "\u001b[?25hRequirement already satisfied: tqdm~=4.23 in /usr/local/lib/python3.8/dist-packages (from gluonts[mxnet]) (4.64.1)\n",
            "Requirement already satisfied: pydantic~=1.7 in /usr/local/lib/python3.8/dist-packages (from gluonts[mxnet]) (1.10.2)\n",
            "Requirement already satisfied: pandas~=1.0 in /usr/local/lib/python3.8/dist-packages (from gluonts[mxnet]) (1.3.5)\n",
            "Requirement already satisfied: typing-extensions~=4.0 in /usr/local/lib/python3.8/dist-packages (from gluonts[mxnet]) (4.4.0)\n",
            "Requirement already satisfied: toolz~=0.10 in /usr/local/lib/python3.8/dist-packages (from gluonts[mxnet]) (0.12.0)\n",
            "Requirement already satisfied: numpy~=1.16 in /usr/local/lib/python3.8/dist-packages (from gluonts[mxnet]) (1.21.6)\n",
            "Collecting mxnet~=1.7\n",
            "  Downloading mxnet-1.9.1-py3-none-manylinux2014_x86_64.whl (49.1 MB)\n",
            "\u001b[K     |████████████████████████████████| 49.1 MB 1.9 MB/s \n",
            "\u001b[?25hCollecting graphviz<0.9.0,>=0.8.1\n",
            "  Downloading graphviz-0.8.4-py2.py3-none-any.whl (16 kB)\n",
            "Requirement already satisfied: requests<3,>=2.20.0 in /usr/local/lib/python3.8/dist-packages (from mxnet~=1.7->gluonts[mxnet]) (2.23.0)\n",
            "Requirement already satisfied: pytz>=2017.3 in /usr/local/lib/python3.8/dist-packages (from pandas~=1.0->gluonts[mxnet]) (2022.6)\n",
            "Requirement already satisfied: python-dateutil>=2.7.3 in /usr/local/lib/python3.8/dist-packages (from pandas~=1.0->gluonts[mxnet]) (2.8.2)\n",
            "Requirement already satisfied: six>=1.5 in /usr/local/lib/python3.8/dist-packages (from python-dateutil>=2.7.3->pandas~=1.0->gluonts[mxnet]) (1.15.0)\n",
            "Requirement already satisfied: idna<3,>=2.5 in /usr/local/lib/python3.8/dist-packages (from requests<3,>=2.20.0->mxnet~=1.7->gluonts[mxnet]) (2.10)\n",
            "Requirement already satisfied: certifi>=2017.4.17 in /usr/local/lib/python3.8/dist-packages (from requests<3,>=2.20.0->mxnet~=1.7->gluonts[mxnet]) (2022.12.7)\n",
            "Requirement already satisfied: chardet<4,>=3.0.2 in /usr/local/lib/python3.8/dist-packages (from requests<3,>=2.20.0->mxnet~=1.7->gluonts[mxnet]) (3.0.4)\n",
            "Requirement already satisfied: urllib3!=1.25.0,!=1.25.1,<1.26,>=1.21.1 in /usr/local/lib/python3.8/dist-packages (from requests<3,>=2.20.0->mxnet~=1.7->gluonts[mxnet]) (1.24.3)\n",
            "Installing collected packages: graphviz, mxnet, gluonts\n",
            "  Attempting uninstall: graphviz\n",
            "    Found existing installation: graphviz 0.10.1\n",
            "    Uninstalling graphviz-0.10.1:\n",
            "      Successfully uninstalled graphviz-0.10.1\n",
            "Successfully installed gluonts-0.11.6 graphviz-0.8.4 mxnet-1.9.1\n"
          ]
        }
      ]
    },
    {
      "cell_type": "code",
      "execution_count": 2,
      "metadata": {
        "colab": {
          "base_uri": "https://localhost:8080/"
        },
        "id": "dOjLCIIv5zj2",
        "outputId": "54b9c270-6e54-4f34-8f0b-825645c51a8a"
      },
      "outputs": [
        {
          "output_type": "stream",
          "name": "stderr",
          "text": [
            "/usr/local/lib/python3.8/dist-packages/gluonts/json.py:101: UserWarning: Using `json`-module for json-handling. Consider installing one of `orjson`, `ujson` to speed up serialization and deserialization.\n",
            "  warnings.warn(\n"
          ]
        }
      ],
      "source": [
        "import matplotlib.pyplot as plt\n",
        "from gluonts.dataset.util import to_pandas\n",
        "from gluonts.dataset.pandas import PandasDataset\n",
        "from gluonts.dataset.repository.datasets import get_dataset\n",
        "from gluonts.mx import DeepAREstimator, Trainer"
      ]
    },
    {
      "cell_type": "code",
      "source": [
        "import pandas as pd\n",
        "df = pd.read_excel('/content/Solar station site 1 (Nominal capacity-50MW).xlsx')"
      ],
      "metadata": {
        "id": "EJTtkf7C61k-"
      },
      "execution_count": 15,
      "outputs": []
    },
    {
      "cell_type": "code",
      "source": [
        "df.head()"
      ],
      "metadata": {
        "colab": {
          "base_uri": "https://localhost:8080/",
          "height": 372
        },
        "id": "rRJKdr6169Fd",
        "outputId": "d683a000-bbca-4a21-b39c-8bb882acc090"
      },
      "execution_count": 16,
      "outputs": [
        {
          "output_type": "execute_result",
          "data": {
            "text/plain": [
              "  Time(year-month-day h:m:s)  Total solar irradiance (W/m2)  \\\n",
              "0        2019-01-01 00:00:00                              0   \n",
              "1        2019-01-01 00:15:00                              0   \n",
              "2        2019-01-01 00:30:00                              0   \n",
              "3        2019-01-01 00:45:00                              0   \n",
              "4        2019-01-01 01:00:00                              0   \n",
              "\n",
              "   Direct normal irradiance (W/m2)  Global horizontal irradiance (W/m2)  \\\n",
              "0                                0                                    0   \n",
              "1                                0                                    0   \n",
              "2                                0                                    0   \n",
              "3                                0                                    0   \n",
              "4                                0                                    0   \n",
              "\n",
              "   Air temperature  (°C)   Atmosphere (hpa)  Relative humidity (%)  Power (MW)  \n",
              "0                   -11.7             930.5                   39.1         0.0  \n",
              "1                   -11.8             930.5                   39.3         0.0  \n",
              "2                   -11.4             930.5                   39.0         0.0  \n",
              "3                   -11.5             930.5                   38.0         0.0  \n",
              "4                   -11.5             930.4                   38.9         0.0  "
            ],
            "text/html": [
              "\n",
              "  <div id=\"df-63cf5540-0a83-41f1-901a-d68c42be284c\">\n",
              "    <div class=\"colab-df-container\">\n",
              "      <div>\n",
              "<style scoped>\n",
              "    .dataframe tbody tr th:only-of-type {\n",
              "        vertical-align: middle;\n",
              "    }\n",
              "\n",
              "    .dataframe tbody tr th {\n",
              "        vertical-align: top;\n",
              "    }\n",
              "\n",
              "    .dataframe thead th {\n",
              "        text-align: right;\n",
              "    }\n",
              "</style>\n",
              "<table border=\"1\" class=\"dataframe\">\n",
              "  <thead>\n",
              "    <tr style=\"text-align: right;\">\n",
              "      <th></th>\n",
              "      <th>Time(year-month-day h:m:s)</th>\n",
              "      <th>Total solar irradiance (W/m2)</th>\n",
              "      <th>Direct normal irradiance (W/m2)</th>\n",
              "      <th>Global horizontal irradiance (W/m2)</th>\n",
              "      <th>Air temperature  (°C)</th>\n",
              "      <th>Atmosphere (hpa)</th>\n",
              "      <th>Relative humidity (%)</th>\n",
              "      <th>Power (MW)</th>\n",
              "    </tr>\n",
              "  </thead>\n",
              "  <tbody>\n",
              "    <tr>\n",
              "      <th>0</th>\n",
              "      <td>2019-01-01 00:00:00</td>\n",
              "      <td>0</td>\n",
              "      <td>0</td>\n",
              "      <td>0</td>\n",
              "      <td>-11.7</td>\n",
              "      <td>930.5</td>\n",
              "      <td>39.1</td>\n",
              "      <td>0.0</td>\n",
              "    </tr>\n",
              "    <tr>\n",
              "      <th>1</th>\n",
              "      <td>2019-01-01 00:15:00</td>\n",
              "      <td>0</td>\n",
              "      <td>0</td>\n",
              "      <td>0</td>\n",
              "      <td>-11.8</td>\n",
              "      <td>930.5</td>\n",
              "      <td>39.3</td>\n",
              "      <td>0.0</td>\n",
              "    </tr>\n",
              "    <tr>\n",
              "      <th>2</th>\n",
              "      <td>2019-01-01 00:30:00</td>\n",
              "      <td>0</td>\n",
              "      <td>0</td>\n",
              "      <td>0</td>\n",
              "      <td>-11.4</td>\n",
              "      <td>930.5</td>\n",
              "      <td>39.0</td>\n",
              "      <td>0.0</td>\n",
              "    </tr>\n",
              "    <tr>\n",
              "      <th>3</th>\n",
              "      <td>2019-01-01 00:45:00</td>\n",
              "      <td>0</td>\n",
              "      <td>0</td>\n",
              "      <td>0</td>\n",
              "      <td>-11.5</td>\n",
              "      <td>930.5</td>\n",
              "      <td>38.0</td>\n",
              "      <td>0.0</td>\n",
              "    </tr>\n",
              "    <tr>\n",
              "      <th>4</th>\n",
              "      <td>2019-01-01 01:00:00</td>\n",
              "      <td>0</td>\n",
              "      <td>0</td>\n",
              "      <td>0</td>\n",
              "      <td>-11.5</td>\n",
              "      <td>930.4</td>\n",
              "      <td>38.9</td>\n",
              "      <td>0.0</td>\n",
              "    </tr>\n",
              "  </tbody>\n",
              "</table>\n",
              "</div>\n",
              "      <button class=\"colab-df-convert\" onclick=\"convertToInteractive('df-63cf5540-0a83-41f1-901a-d68c42be284c')\"\n",
              "              title=\"Convert this dataframe to an interactive table.\"\n",
              "              style=\"display:none;\">\n",
              "        \n",
              "  <svg xmlns=\"http://www.w3.org/2000/svg\" height=\"24px\"viewBox=\"0 0 24 24\"\n",
              "       width=\"24px\">\n",
              "    <path d=\"M0 0h24v24H0V0z\" fill=\"none\"/>\n",
              "    <path d=\"M18.56 5.44l.94 2.06.94-2.06 2.06-.94-2.06-.94-.94-2.06-.94 2.06-2.06.94zm-11 1L8.5 8.5l.94-2.06 2.06-.94-2.06-.94L8.5 2.5l-.94 2.06-2.06.94zm10 10l.94 2.06.94-2.06 2.06-.94-2.06-.94-.94-2.06-.94 2.06-2.06.94z\"/><path d=\"M17.41 7.96l-1.37-1.37c-.4-.4-.92-.59-1.43-.59-.52 0-1.04.2-1.43.59L10.3 9.45l-7.72 7.72c-.78.78-.78 2.05 0 2.83L4 21.41c.39.39.9.59 1.41.59.51 0 1.02-.2 1.41-.59l7.78-7.78 2.81-2.81c.8-.78.8-2.07 0-2.86zM5.41 20L4 18.59l7.72-7.72 1.47 1.35L5.41 20z\"/>\n",
              "  </svg>\n",
              "      </button>\n",
              "      \n",
              "  <style>\n",
              "    .colab-df-container {\n",
              "      display:flex;\n",
              "      flex-wrap:wrap;\n",
              "      gap: 12px;\n",
              "    }\n",
              "\n",
              "    .colab-df-convert {\n",
              "      background-color: #E8F0FE;\n",
              "      border: none;\n",
              "      border-radius: 50%;\n",
              "      cursor: pointer;\n",
              "      display: none;\n",
              "      fill: #1967D2;\n",
              "      height: 32px;\n",
              "      padding: 0 0 0 0;\n",
              "      width: 32px;\n",
              "    }\n",
              "\n",
              "    .colab-df-convert:hover {\n",
              "      background-color: #E2EBFA;\n",
              "      box-shadow: 0px 1px 2px rgba(60, 64, 67, 0.3), 0px 1px 3px 1px rgba(60, 64, 67, 0.15);\n",
              "      fill: #174EA6;\n",
              "    }\n",
              "\n",
              "    [theme=dark] .colab-df-convert {\n",
              "      background-color: #3B4455;\n",
              "      fill: #D2E3FC;\n",
              "    }\n",
              "\n",
              "    [theme=dark] .colab-df-convert:hover {\n",
              "      background-color: #434B5C;\n",
              "      box-shadow: 0px 1px 3px 1px rgba(0, 0, 0, 0.15);\n",
              "      filter: drop-shadow(0px 1px 2px rgba(0, 0, 0, 0.3));\n",
              "      fill: #FFFFFF;\n",
              "    }\n",
              "  </style>\n",
              "\n",
              "      <script>\n",
              "        const buttonEl =\n",
              "          document.querySelector('#df-63cf5540-0a83-41f1-901a-d68c42be284c button.colab-df-convert');\n",
              "        buttonEl.style.display =\n",
              "          google.colab.kernel.accessAllowed ? 'block' : 'none';\n",
              "\n",
              "        async function convertToInteractive(key) {\n",
              "          const element = document.querySelector('#df-63cf5540-0a83-41f1-901a-d68c42be284c');\n",
              "          const dataTable =\n",
              "            await google.colab.kernel.invokeFunction('convertToInteractive',\n",
              "                                                     [key], {});\n",
              "          if (!dataTable) return;\n",
              "\n",
              "          const docLinkHtml = 'Like what you see? Visit the ' +\n",
              "            '<a target=\"_blank\" href=https://colab.research.google.com/notebooks/data_table.ipynb>data table notebook</a>'\n",
              "            + ' to learn more about interactive tables.';\n",
              "          element.innerHTML = '';\n",
              "          dataTable['output_type'] = 'display_data';\n",
              "          await google.colab.output.renderOutput(dataTable, element);\n",
              "          const docLink = document.createElement('div');\n",
              "          docLink.innerHTML = docLinkHtml;\n",
              "          element.appendChild(docLink);\n",
              "        }\n",
              "      </script>\n",
              "    </div>\n",
              "  </div>\n",
              "  "
            ]
          },
          "metadata": {},
          "execution_count": 16
        }
      ]
    },
    {
      "cell_type": "code",
      "source": [
        "import matplotlib as mpl\n",
        "mpl.rcParams['figure.figsize']=(10,8)\n",
        "mpl.rcParams['axes.grid']=False"
      ],
      "metadata": {
        "id": "Q0U4iH5s7Bi_"
      },
      "execution_count": 17,
      "outputs": []
    },
    {
      "cell_type": "code",
      "source": [
        "for dataset in [df]:\n",
        "    dataset.columns=['time','TSI','DNI','GHI','Air_T','Air_P','Air_H','Power(MW)']"
      ],
      "metadata": {
        "id": "KbhS75ez7EXC"
      },
      "execution_count": 18,
      "outputs": []
    },
    {
      "cell_type": "code",
      "source": [
        "color_list =[\n",
        "    'blue','orange','green','red','purple','brown','pink','gray','olive','cyan'\n",
        "]"
      ],
      "metadata": {
        "id": "vqcIZgZ68Lk8"
      },
      "execution_count": 19,
      "outputs": []
    },
    {
      "cell_type": "code",
      "source": [
        "date_key='time' "
      ],
      "metadata": {
        "id": "dptq6V0V8rvk"
      },
      "execution_count": 20,
      "outputs": []
    },
    {
      "cell_type": "code",
      "source": [
        "df= df.set_index('time')"
      ],
      "metadata": {
        "id": "FxiU_OiN8v16"
      },
      "execution_count": 22,
      "outputs": []
    },
    {
      "cell_type": "code",
      "source": [
        "df.time=pd.to_datetime(df[\"time\"], format = \"%Y-%m-%d %H:%M:%S\", errors = \"coerce\")"
      ],
      "metadata": {
        "id": "iI2nhQOW9lOG"
      },
      "execution_count": 21,
      "outputs": []
    },
    {
      "cell_type": "code",
      "source": [
        "train_time='2020-08-01 00:00:00'\n",
        "prediction_length=96"
      ],
      "metadata": {
        "id": "Y9YBXn7J9_nG"
      },
      "execution_count": 23,
      "outputs": []
    },
    {
      "cell_type": "code",
      "source": [
        "estimator =DeepAREstimator(\n",
        "    freq=\"15min\",\n",
        "    context_length=480,\n",
        "    prediction_length=96,\n",
        "    num_layers=2,\n",
        "    num_cells=128,\n",
        "    cell_type='lstm',\n",
        "    trainer=Trainer(epochs=8) \n",
        ")"
      ],
      "metadata": {
        "id": "e0_TZ1Ru-iuF"
      },
      "execution_count": 24,
      "outputs": []
    },
    {
      "cell_type": "code",
      "source": [
        "from gluonts.dataset.common import ListDataset\n",
        "\n",
        "training_data =ListDataset(\n",
        "    [{\"start\":df.index[0],\"target\":df[\"Power(MW)\"][:train_time]}],\n",
        "    freq=\"15min\"\n",
        ")"
      ],
      "metadata": {
        "id": "HUzMiSAe_Gs8"
      },
      "execution_count": 25,
      "outputs": []
    },
    {
      "cell_type": "code",
      "source": [
        "predictor= estimator.train(training_data=training_data)"
      ],
      "metadata": {
        "colab": {
          "base_uri": "https://localhost:8080/"
        },
        "id": "m1HkSOYK_wCR",
        "outputId": "582b7d5a-6640-4c7d-94d3-17561750636a"
      },
      "execution_count": 26,
      "outputs": [
        {
          "output_type": "stream",
          "name": "stderr",
          "text": [
            "100%|██████████| 50/50 [03:19<00:00,  3.99s/it, epoch=1/8, avg_epoch_loss=2.13]\n",
            "100%|██████████| 50/50 [03:11<00:00,  3.83s/it, epoch=2/8, avg_epoch_loss=1.95]\n",
            "100%|██████████| 50/50 [03:10<00:00,  3.81s/it, epoch=3/8, avg_epoch_loss=1.61]\n",
            "100%|██████████| 50/50 [03:06<00:00,  3.74s/it, epoch=4/8, avg_epoch_loss=1.8] \n",
            "100%|██████████| 50/50 [03:11<00:00,  3.84s/it, epoch=5/8, avg_epoch_loss=0.987]\n",
            "100%|██████████| 50/50 [03:08<00:00,  3.78s/it, epoch=6/8, avg_epoch_loss=0.988]\n",
            "100%|██████████| 50/50 [03:10<00:00,  3.81s/it, epoch=7/8, avg_epoch_loss=0.783]\n",
            "100%|██████████| 50/50 [03:10<00:00,  3.82s/it, epoch=8/8, avg_epoch_loss=0.678]\n"
          ]
        }
      ]
    },
    {
      "cell_type": "code",
      "source": [
        "test_data=ListDataset(\n",
        "    [\n",
        "        {\"start\":df.index[0],\"target\":df[\"Power(MW)\"][:\"2020-07-05 00:00:00\"]},\n",
        "        {\"start\":df.index[0],\"target\":df[\"Power(MW)\"][:\"2020-08-10 00:00:00\"]}\n",
        "    ],\n",
        "    freq=\"15min\"\n",
        ")"
      ],
      "metadata": {
        "id": "zh5d4Ga-AApQ"
      },
      "execution_count": 27,
      "outputs": []
    },
    {
      "cell_type": "code",
      "source": [
        "from gluonts.evaluation.backtest import make_evaluation_predictions"
      ],
      "metadata": {
        "id": "ANZiap5BDSDk"
      },
      "execution_count": 28,
      "outputs": []
    },
    {
      "cell_type": "code",
      "source": [
        "forecast_it,ts_it =make_evaluation_predictions(\n",
        "    dataset=test_data,\n",
        "    predictor=predictor,\n",
        "    num_samples=100\n",
        ")"
      ],
      "metadata": {
        "id": "_7kTpoqcDSrS"
      },
      "execution_count": 29,
      "outputs": []
    },
    {
      "cell_type": "code",
      "source": [
        "forecasts=list(forecast_it)\n",
        "tss=list(ts_it)"
      ],
      "metadata": {
        "id": "2XyeCqo-Dqur"
      },
      "execution_count": 30,
      "outputs": []
    },
    {
      "cell_type": "code",
      "source": [
        "forecast_entry =forecasts[0]"
      ],
      "metadata": {
        "id": "4c65KCHWDx9b"
      },
      "execution_count": 31,
      "outputs": []
    },
    {
      "cell_type": "code",
      "source": [
        "from google.colab import files\n",
        "def plot_prob_forecasts(ts_entry,forecast_entry):\n",
        "  plot_length = prediction_length\n",
        "  prediction_intervals=(80.0,95.0)\n",
        "  legend=[\"observations\",\"median prediction\"]+[f\"{k}% prediction interval\"for k in prediction_intervals][::-1]\n",
        "\n",
        "  fig,ax= plt.subplots(1,1,figsize=(10,7))\n",
        "  ts_entry[-plot_length:].plot(ax=ax)\n",
        "  forecast_entry.plot(prediction_intervals=prediction_intervals,color='g')\n",
        "  plt.grid(which='both')\n",
        "  plt.legend(legend,loc='upper left')\n",
        "  plt.savefig('./forecasts')"
      ],
      "metadata": {
        "id": "BG-PrsBODyYq"
      },
      "execution_count": 40,
      "outputs": []
    },
    {
      "cell_type": "code",
      "source": [
        "\n",
        "plot_prob_forecasts(tss[1],forecasts[1])"
      ],
      "metadata": {
        "colab": {
          "base_uri": "https://localhost:8080/",
          "height": 440
        },
        "id": "TLs7l0UnFBYJ",
        "outputId": "2eef1989-f60a-4a71-a819-6340d1b30c36"
      },
      "execution_count": 41,
      "outputs": [
        {
          "output_type": "display_data",
          "data": {
            "text/plain": [
              "<Figure size 720x504 with 1 Axes>"
            ],
            "image/png": "[encoded data removed]"
          },
          "metadata": {
            "needs_background": "light"
          }
        }
      ]
    },
    {
      "cell_type": "code",
      "source": [
        "from gluonts.evaluation import Evaluator\n",
        "evaluator = Evaluator(quantiles=[0.1,0.5,0.9])\n",
        "agg_metrics,item_metrics= evaluator(iter(tss),iter(forecasts),num_series=len(test_data))"
      ],
      "metadata": {
        "colab": {
          "base_uri": "https://localhost:8080/"
        },
        "id": "4isaQHvLFPyz",
        "outputId": "5a8fd2f1-6607-4bcd-a02e-84ce74328b46"
      },
      "execution_count": 34,
      "outputs": [
        {
          "output_type": "stream",
          "name": "stderr",
          "text": [
            "Running evaluation: 100%|██████████| 2/2 [00:00<00:00, 37.60it/s]\n"
          ]
        }
      ]
    },
    {
      "cell_type": "code",
      "source": [
        "item_metrics"
      ],
      "metadata": {
        "colab": {
          "base_uri": "https://localhost:8080/",
          "height": 211
        },
        "id": "YAEQsjwtFrDz",
        "outputId": "d5f61b40-35c7-4738-ef21-9847d4e51e46"
      },
      "execution_count": 35,
      "outputs": [
        {
          "output_type": "execute_result",
          "data": {
            "text/plain": [
              "  item_id    forecast_start        MSE   abs_error  abs_target_sum  \\\n",
              "0    None  2020-07-04 00:15   5.984238  196.838196     1193.750122   \n",
              "1    None  2020-08-09 00:15  33.854523  335.641296     1054.659912   \n",
              "\n",
              "   abs_target_mean  seasonal_error      MASE      MAPE     sMAPE        ND  \\\n",
              "0        12.434897        3.021723  0.678553  0.281781  0.913206  0.164891   \n",
              "1        10.986041        3.046953  1.147462  0.318633  1.010939  0.318246   \n",
              "\n",
              "      MSIS  QuantileLoss[0.1]  Coverage[0.1]  QuantileLoss[0.5]  \\\n",
              "0  4.66602          72.116160       0.000000         196.838187   \n",
              "1  5.73137          89.551666       0.041667         335.641307   \n",
              "\n",
              "   Coverage[0.5]  QuantileLoss[0.9]  Coverage[0.9]  \n",
              "0       0.510417          93.916432       0.750000  \n",
              "1       0.427083         133.070229       0.708333  "
            ],
            "text/html": [
              "\n",
              "  <div id=\"df-973e9dc3-bdad-4583-b1b6-4e6396af657d\">\n",
              "    <div class=\"colab-df-container\">\n",
              "      <div>\n",
              "<style scoped>\n",
              "    .dataframe tbody tr th:only-of-type {\n",
              "        vertical-align: middle;\n",
              "    }\n",
              "\n",
              "    .dataframe tbody tr th {\n",
              "        vertical-align: top;\n",
              "    }\n",
              "\n",
              "    .dataframe thead th {\n",
              "        text-align: right;\n",
              "    }\n",
              "</style>\n",
              "<table border=\"1\" class=\"dataframe\">\n",
              "  <thead>\n",
              "    <tr style=\"text-align: right;\">\n",
              "      <th></th>\n",
              "      <th>item_id</th>\n",
              "      <th>forecast_start</th>\n",
              "      <th>MSE</th>\n",
              "      <th>abs_error</th>\n",
              "      <th>abs_target_sum</th>\n",
              "      <th>abs_target_mean</th>\n",
              "      <th>seasonal_error</th>\n",
              "      <th>MASE</th>\n",
              "      <th>MAPE</th>\n",
              "      <th>sMAPE</th>\n",
              "      <th>ND</th>\n",
              "      <th>MSIS</th>\n",
              "      <th>QuantileLoss[0.1]</th>\n",
              "      <th>Coverage[0.1]</th>\n",
              "      <th>QuantileLoss[0.5]</th>\n",
              "      <th>Coverage[0.5]</th>\n",
              "      <th>QuantileLoss[0.9]</th>\n",
              "      <th>Coverage[0.9]</th>\n",
              "    </tr>\n",
              "  </thead>\n",
              "  <tbody>\n",
              "    <tr>\n",
              "      <th>0</th>\n",
              "      <td>None</td>\n",
              "      <td>2020-07-04 00:15</td>\n",
              "      <td>5.984238</td>\n",
              "      <td>196.838196</td>\n",
              "      <td>1193.750122</td>\n",
              "      <td>12.434897</td>\n",
              "      <td>3.021723</td>\n",
              "      <td>0.678553</td>\n",
              "      <td>0.281781</td>\n",
              "      <td>0.913206</td>\n",
              "      <td>0.164891</td>\n",
              "      <td>4.66602</td>\n",
              "      <td>72.116160</td>\n",
              "      <td>0.000000</td>\n",
              "      <td>196.838187</td>\n",
              "      <td>0.510417</td>\n",
              "      <td>93.916432</td>\n",
              "      <td>0.750000</td>\n",
              "    </tr>\n",
              "    <tr>\n",
              "      <th>1</th>\n",
              "      <td>None</td>\n",
              "      <td>2020-08-09 00:15</td>\n",
              "      <td>33.854523</td>\n",
              "      <td>335.641296</td>\n",
              "      <td>1054.659912</td>\n",
              "      <td>10.986041</td>\n",
              "      <td>3.046953</td>\n",
              "      <td>1.147462</td>\n",
              "      <td>0.318633</td>\n",
              "      <td>1.010939</td>\n",
              "      <td>0.318246</td>\n",
              "      <td>5.73137</td>\n",
              "      <td>89.551666</td>\n",
              "      <td>0.041667</td>\n",
              "      <td>335.641307</td>\n",
              "      <td>0.427083</td>\n",
              "      <td>133.070229</td>\n",
              "      <td>0.708333</td>\n",
              "    </tr>\n",
              "  </tbody>\n",
              "</table>\n",
              "</div>\n",
              "      <button class=\"colab-df-convert\" onclick=\"convertToInteractive('df-973e9dc3-bdad-4583-b1b6-4e6396af657d')\"\n",
              "              title=\"Convert this dataframe to an interactive table.\"\n",
              "              style=\"display:none;\">\n",
              "        \n",
              "  <svg xmlns=\"http://www.w3.org/2000/svg\" height=\"24px\"viewBox=\"0 0 24 24\"\n",
              "       width=\"24px\">\n",
              "    <path d=\"M0 0h24v24H0V0z\" fill=\"none\"/>\n",
              "    <path d=\"M18.56 5.44l.94 2.06.94-2.06 2.06-.94-2.06-.94-.94-2.06-.94 2.06-2.06.94zm-11 1L8.5 8.5l.94-2.06 2.06-.94-2.06-.94L8.5 2.5l-.94 2.06-2.06.94zm10 10l.94 2.06.94-2.06 2.06-.94-2.06-.94-.94-2.06-.94 2.06-2.06.94z\"/><path d=\"M17.41 7.96l-1.37-1.37c-.4-.4-.92-.59-1.43-.59-.52 0-1.04.2-1.43.59L10.3 9.45l-7.72 7.72c-.78.78-.78 2.05 0 2.83L4 21.41c.39.39.9.59 1.41.59.51 0 1.02-.2 1.41-.59l7.78-7.78 2.81-2.81c.8-.78.8-2.07 0-2.86zM5.41 20L4 18.59l7.72-7.72 1.47 1.35L5.41 20z\"/>\n",
              "  </svg>\n",
              "      </button>\n",
              "      \n",
              "  <style>\n",
              "    .colab-df-container {\n",
              "      display:flex;\n",
              "      flex-wrap:wrap;\n",
              "      gap: 12px;\n",
              "    }\n",
              "\n",
              "    .colab-df-convert {\n",
              "      background-color: #E8F0FE;\n",
              "      border: none;\n",
              "      border-radius: 50%;\n",
              "      cursor: pointer;\n",
              "      display: none;\n",
              "      fill: #1967D2;\n",
              "      height: 32px;\n",
              "      padding: 0 0 0 0;\n",
              "      width: 32px;\n",
              "    }\n",
              "\n",
              "    .colab-df-convert:hover {\n",
              "      background-color: #E2EBFA;\n",
              "      box-shadow: 0px 1px 2px rgba(60, 64, 67, 0.3), 0px 1px 3px 1px rgba(60, 64, 67, 0.15);\n",
              "      fill: #174EA6;\n",
              "    }\n",
              "\n",
              "    [theme=dark] .colab-df-convert {\n",
              "      background-color: #3B4455;\n",
              "      fill: #D2E3FC;\n",
              "    }\n",
              "\n",
              "    [theme=dark] .colab-df-convert:hover {\n",
              "      background-color: #434B5C;\n",
              "      box-shadow: 0px 1px 3px 1px rgba(0, 0, 0, 0.15);\n",
              "      filter: drop-shadow(0px 1px 2px rgba(0, 0, 0, 0.3));\n",
              "      fill: #FFFFFF;\n",
              "    }\n",
              "  </style>\n",
              "\n",
              "      <script>\n",
              "        const buttonEl =\n",
              "          document.querySelector('#df-973e9dc3-bdad-4583-b1b6-4e6396af657d button.colab-df-convert');\n",
              "        buttonEl.style.display =\n",
              "          google.colab.kernel.accessAllowed ? 'block' : 'none';\n",
              "\n",
              "        async function convertToInteractive(key) {\n",
              "          const element = document.querySelector('#df-973e9dc3-bdad-4583-b1b6-4e6396af657d');\n",
              "          const dataTable =\n",
              "            await google.colab.kernel.invokeFunction('convertToInteractive',\n",
              "                                                     [key], {});\n",
              "          if (!dataTable) return;\n",
              "\n",
              "          const docLinkHtml = 'Like what you see? Visit the ' +\n",
              "            '<a target=\"_blank\" href=https://colab.research.google.com/notebooks/data_table.ipynb>data table notebook</a>'\n",
              "            + ' to learn more about interactive tables.';\n",
              "          element.innerHTML = '';\n",
              "          dataTable['output_type'] = 'display_data';\n",
              "          await google.colab.output.renderOutput(dataTable, element);\n",
              "          const docLink = document.createElement('div');\n",
              "          docLink.innerHTML = docLinkHtml;\n",
              "          element.appendChild(docLink);\n",
              "        }\n",
              "      </script>\n",
              "    </div>\n",
              "  </div>\n",
              "  "
            ]
          },
          "metadata": {},
          "execution_count": 35
        }
      ]
    }
  ]
}